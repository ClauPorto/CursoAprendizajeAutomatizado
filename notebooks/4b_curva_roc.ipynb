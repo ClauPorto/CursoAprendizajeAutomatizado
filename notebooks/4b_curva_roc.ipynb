{
  "nbformat": 4,
  "nbformat_minor": 0,
  "metadata": {
    "colab": {
      "name": "4b_curva_roc.ipynb",
      "provenance": [],
      "collapsed_sections": [],
      "authorship_tag": "ABX9TyNrsyVQcjHt6ofqRjzaijy7",
      "include_colab_link": true
    },
    "kernelspec": {
      "name": "python3",
      "display_name": "Python 3"
    }
  },
  "cells": [
    {
      "cell_type": "markdown",
      "metadata": {
        "id": "view-in-github",
        "colab_type": "text"
      },
      "source": [
        "<a href=\"https://colab.research.google.com/github/gibranfp/CursoAprendizajeAutomatizado/blob/master/notebooks/4b_curva_roc.ipynb\" target=\"_parent\"><img src=\"https://colab.research.google.com/assets/colab-badge.svg\" alt=\"Open In Colab\"/></a>"
      ]
    },
    {
      "cell_type": "markdown",
      "metadata": {
        "colab_type": "text",
        "id": "Ts74KWNkZI7d"
      },
      "source": [
        "## Clasificación de documentos"
      ]
    },
    {
      "cell_type": "markdown",
      "metadata": {
        "id": "UuX1cKcd7Mpo",
        "colab_type": "text"
      },
      "source": [
        "Definimos la función para calcular el radio de falsos positivos.\n"
      ]
    },
    {
      "cell_type": "code",
      "metadata": {
        "id": "v2B-qgOY7Kdv",
        "colab_type": "code",
        "colab": {}
      },
      "source": [
        "def radio_falsos_positivos(probabilities, thres):\n",
        "  return np.mean(probabilities >= thres)"
      ],
      "execution_count": 0,
      "outputs": []
    },
    {
      "cell_type": "markdown",
      "metadata": {
        "id": "mjhcvsgf8QSI",
        "colab_type": "text"
      },
      "source": [
        "Definimos la función para calcular el radio de verdaderos positivos.\n"
      ]
    },
    {
      "cell_type": "code",
      "metadata": {
        "id": "yFLQPxJY7Y_X",
        "colab_type": "code",
        "colab": {}
      },
      "source": [
        "def radio_verdaderos_positivos(probabilities, thres):\n",
        "  return np.mean(probabilities >= thres)"
      ],
      "execution_count": 0,
      "outputs": []
    },
    {
      "cell_type": "markdown",
      "metadata": {
        "id": "NVtvBin27Ymf",
        "colab_type": "text"
      },
      "source": [
        "Función que calcula la curva ROC"
      ]
    },
    {
      "cell_type": "code",
      "metadata": {
        "id": "HNTfICeZ8bP9",
        "colab_type": "code",
        "colab": {}
      },
      "source": [
        "def roc(probabilities, y):\n",
        "    positivos = np.where(y == 1)\n",
        "    negativos = np.where(y == 0)\n",
        "\n",
        "    rvps = np.zeros(np.unique(probabilities).shape[0])\n",
        "    rfps = np.zeros(np.unique(probabilities).shape[0])\n",
        "    \n",
        "    for i, p in enumerate(np.unique(probabilities)[::-1]):\n",
        "        rvps[i] = radio_verdaderos_positivos(probabilities[positivos], p)\n",
        "        rfps[i] = radio_falsos_positivos(probabilities[negativos], p)\n",
        "\n",
        "    return rvps, rfps"
      ],
      "execution_count": 0,
      "outputs": []
    },
    {
      "cell_type": "markdown",
      "metadata": {
        "id": "FO18JtRK2_rL",
        "colab_type": "text"
      },
      "source": [
        "Definimos funciones para calcular el área bajo la curva ROC usando la [fórmula de Shoelace](https://en.wikipedia.org/wiki/Shoelace_formula)"
      ]
    },
    {
      "cell_type": "code",
      "metadata": {
        "id": "WTyre6AG29cV",
        "colab_type": "code",
        "colab": {}
      },
      "source": [
        "def area_poligono(vertices):\n",
        "    area = 0.0\n",
        "    n_vert = len(vertices)\n",
        "    for i in range(n_vert - 1):\n",
        "        area = area + vertices[i][0] * vertices[i + 1][1]\n",
        "        area = area - vertices[i + 1][0] * vertices[i][1]\n",
        "\n",
        "    area = area + vertices[n_vert - 1][0] * vertices[0][1]\n",
        "    area = area - vertices[0][0] * vertices[n_vert - 1][1]\n",
        "\n",
        "    return 0.5 * abs(area)\n",
        "\n",
        "def aucroc(tfp, tvp):\n",
        "  auc = 0.0\n",
        "  fprev = 0.0\n",
        "  vprev = 0.0\n",
        "  for i,(f,v) in enumerate(zip(tfp, tvp)):\n",
        "    auc += area_poligono([[fprev, 0], [fprev, vprev], [f, v], [f, 0]])\n",
        "    fprev = f\n",
        "    vprev = v\n",
        "\n",
        "  return auc + area_poligono([[fprev, 0], [fprev, vprev], [1, 1], [1, 0]])"
      ],
      "execution_count": 0,
      "outputs": []
    },
    {
      "cell_type": "markdown",
      "metadata": {
        "id": "iWD_Cyia8nH7",
        "colab_type": "text"
      },
      "source": [
        "Descargamos los subconjuntos de entrenamiento y validación del conjunto de documentos _20 Newsgroups_."
      ]
    },
    {
      "cell_type": "code",
      "metadata": {
        "id": "BKbHjAj69ICt",
        "colab_type": "code",
        "colab": {}
      },
      "source": [
        "import numpy as np\n",
        "import matplotlib.pyplot as plt\n",
        "\n",
        "from sklearn.linear_model import SGDClassifier\n",
        "from sklearn.feature_extraction.text import TfidfVectorizer\n",
        "from sklearn.datasets import fetch_20newsgroups\n",
        "\n",
        "categories = ['alt.atheism', 'talk.religion.misc']\n",
        "remove = ('headers', 'footers', 'quotes')\n",
        "data_train = fetch_20newsgroups(subset='train', categories=categories,\n",
        "                                shuffle=True, random_state=42,\n",
        "                                remove=remove)\n",
        "\n",
        "data_test = fetch_20newsgroups(subset='test', categories=categories,\n",
        "                                shuffle=True, random_state=42,\n",
        "                                remove=remove)"
      ],
      "execution_count": 0,
      "outputs": []
    },
    {
      "cell_type": "markdown",
      "metadata": {
        "id": "mCXyz7v4VLe_",
        "colab_type": "text"
      },
      "source": [
        "Calculamos la representación de bolsa de palabras para cada subconjunto."
      ]
    },
    {
      "cell_type": "code",
      "metadata": {
        "id": "6g3wHFAPVL6B",
        "colab_type": "code",
        "colab": {}
      },
      "source": [
        "tfidf = TfidfVectorizer(sublinear_tf = True, max_df = 0.5,\n",
        "                        stop_words = 'english')\n",
        "X_ent = tfidf.fit_transform(data_train.data)\n",
        "y_ent = data_train['target']\n",
        "\n",
        "X_val = tfidf.transform(data_test.data)\n",
        "y_val = data_test['target']"
      ],
      "execution_count": 0,
      "outputs": []
    },
    {
      "cell_type": "markdown",
      "metadata": {
        "id": "abKZO9reRTVP",
        "colab_type": "text"
      },
      "source": [
        "Instancia un clasificador de regresión logística entrenado mediante descenso por gradiente"
      ]
    },
    {
      "cell_type": "code",
      "metadata": {
        "id": "2ffZYEz9yjxJ",
        "colab_type": "code",
        "outputId": "d9e167d5-2ea9-4877-96ac-991c38bfaad3",
        "colab": {
          "base_uri": "https://localhost:8080/",
          "height": 119
        }
      },
      "source": [
        "m = SGDClassifier(loss = 'log')\n",
        "m.fit(X_ent, y_ent)"
      ],
      "execution_count": 7,
      "outputs": [
        {
          "output_type": "execute_result",
          "data": {
            "text/plain": [
              "SGDClassifier(alpha=0.0001, average=False, class_weight=None,\n",
              "              early_stopping=False, epsilon=0.1, eta0=0.0, fit_intercept=True,\n",
              "              l1_ratio=0.15, learning_rate='optimal', loss='log', max_iter=1000,\n",
              "              n_iter_no_change=5, n_jobs=None, penalty='l2', power_t=0.5,\n",
              "              random_state=None, shuffle=True, tol=0.001,\n",
              "              validation_fraction=0.1, verbose=0, warm_start=False)"
            ]
          },
          "metadata": {
            "tags": []
          },
          "execution_count": 7
        }
      ]
    },
    {
      "cell_type": "markdown",
      "metadata": {
        "id": "Ntj3RYVZUkfR",
        "colab_type": "text"
      },
      "source": [
        "Obtenemos las predicciones (probabilidades) de los ejemplos del subconjunto de validación."
      ]
    },
    {
      "cell_type": "code",
      "metadata": {
        "id": "wW4Lsb-nUuWT",
        "colab_type": "code",
        "colab": {}
      },
      "source": [
        "prob = m.predict_proba(X_val)[:,1]"
      ],
      "execution_count": 0,
      "outputs": []
    },
    {
      "cell_type": "markdown",
      "metadata": {
        "id": "tjOHtnhFU6Bj",
        "colab_type": "text"
      },
      "source": [
        "Calculamos los radios de verdaderos positivos y de falsos positivos para cada umbral."
      ]
    },
    {
      "cell_type": "code",
      "metadata": {
        "id": "h5fj9PHOUw3W",
        "colab_type": "code",
        "colab": {}
      },
      "source": [
        "rvps, rfps = roc(prob, y_val)"
      ],
      "execution_count": 0,
      "outputs": []
    },
    {
      "cell_type": "markdown",
      "metadata": {
        "id": "XlJ9jW1qUcRf",
        "colab_type": "text"
      },
      "source": [
        "Graficamos la curva ROC"
      ]
    },
    {
      "cell_type": "code",
      "metadata": {
        "id": "uEU-GkqVUeO1",
        "colab_type": "code",
        "outputId": "1b3cb5d7-4784-4dd8-81e4-34213f58620a",
        "colab": {
          "base_uri": "https://localhost:8080/",
          "height": 279
        }
      },
      "source": [
        "plt.plot(rfps, rvps)\n",
        "plt.plot([0, 1], [0, 1], '--')\n",
        "plt.fill_between(rfps, rvps, 0, alpha=0.5, color = 'lightblue')\n",
        "plt.xlabel('Tasa de falsos positivos')\n",
        "plt.ylabel('Tasa de verdaderos positivos')\n",
        "plt.show()"
      ],
      "execution_count": 10,
      "outputs": [
        {
          "output_type": "display_data",
          "data": {
            "image/png": "[encoded data removed]",
            "text/plain": [
              "<Figure size 432x288 with 1 Axes>"
            ]
          },
          "metadata": {
            "tags": []
          }
        }
      ]
    },
    {
      "cell_type": "markdown",
      "metadata": {
        "colab_type": "text",
        "id": "6STPbZDlW-LI"
      },
      "source": [
        "Calculamos su area bajo la curva"
      ]
    },
    {
      "cell_type": "code",
      "metadata": {
        "id": "B4f3nw_t1R3P",
        "colab_type": "code",
        "outputId": "62f30e95-6d95-46a2-a743-4b7f7714124c",
        "colab": {
          "base_uri": "https://localhost:8080/",
          "height": 34
        }
      },
      "source": [
        "aucroc(rfps, rvps)"
      ],
      "execution_count": 11,
      "outputs": [
        {
          "output_type": "execute_result",
          "data": {
            "text/plain": [
              "0.7748004845820495"
            ]
          },
          "metadata": {
            "tags": []
          },
          "execution_count": 11
        }
      ]
    },
    {
      "cell_type": "code",
      "metadata": {
        "id": "qfVk_PwhXXmb",
        "colab_type": "code",
        "outputId": "94e3b49a-3850-45c5-eef7-ab9e0a3e855b",
        "colab": {
          "base_uri": "https://localhost:8080/",
          "height": 34
        }
      },
      "source": [
        "from sklearn.metrics import roc_auc_score\n",
        "roc_auc_score(y_val, prob)"
      ],
      "execution_count": 12,
      "outputs": [
        {
          "output_type": "execute_result",
          "data": {
            "text/plain": [
              "0.7748004845820479"
            ]
          },
          "metadata": {
            "tags": []
          },
          "execution_count": 12
        }
      ]
    }
  ]
}